{
 "cells": [
  {
   "cell_type": "code",
   "execution_count": 1,
   "metadata": {
    "collapsed": true
   },
   "outputs": [],
   "source": [
    "from plasTeX.TeX import TeX\n",
    "from plasTeX import Node, TeXFragment\n",
    "from plasTeX.Tokenizer import Space\n",
    "from plasTeX.DOM import Text\n",
    "import json"
   ]
  },
  {
   "cell_type": "code",
   "execution_count": 28,
   "metadata": {},
   "outputs": [
    {
     "name": "stderr",
     "output_type": "stream",
     "text": [
      "\n",
      " ( c:\\anaconda3\\src\\python3\\plasTeX\\Packages\\amsart.py )\n",
      " ( C:\\Users\\Matthew Greenberg\\plastex\\myamsthm.py )\n",
      "WARNING: unrecognized command/environment: lemmaname\n"
     ]
    }
   ],
   "source": [
    "tex = TeX()\n",
    "tex.input(r'''\\documentclass{amsart}\n",
    "\\usepackage{myamsthm}\n",
    "\\newtheorem{theorem}{Theorem}\n",
    "\\newtheorem{lemma}{Lemma}\n",
    "\\begin{document}\n",
    "\\section{Section title}\n",
    "\\begin{lemma}\\label{lm:first}Here is some math: $x^2+y^2=z^2$\\end{lemma}\n",
    "\\begin{theorem}[this is a \\textbf{note}]\\label{th:second}\n",
    "The second theorem.\n",
    "\\end{theorem}\n",
    "\\end{document}''')\n",
    "document = tex.parse()"
   ]
  },
  {
   "cell_type": "code",
   "execution_count": 29,
   "metadata": {},
   "outputs": [
    {
     "data": {
      "text/plain": [
       "[<par element at 0x1473472586304>, <par element at 0x1473472586472>]"
      ]
     },
     "execution_count": 29,
     "metadata": {},
     "output_type": "execute_result"
    }
   ],
   "source": [
    "s = document.childNodes\n",
    "#s[6].childNodes[1].childNodes[0].childNodes[1].childNodes\n",
    "d = s[-1]\n",
    "sect = d.childNodes[1]\n",
    "sect.childNodes"
   ]
  },
  {
   "cell_type": "code",
   "execution_count": 30,
   "metadata": {
    "collapsed": true
   },
   "outputs": [],
   "source": [
    "def is_parsable(x):\n",
    "    return isinstance(x, Node) or isinstance(x, dict) or isinstance(x, list) or isinstance(x, str) or isinstance(x, int) or isinstance(x, float)\n",
    "\n",
    "node_attrs = ['attributes', 'childNodes', 'counter', 'id', 'nodeName', 'nodeType', 'ref', 'title', 'tocEntry']\n",
    "\n",
    "math_node_attrs = ['nodeName', 'nodeType', 'source']\n",
    "\n",
    "text_node_attrs = ['isElementContentWhitespace', 'nodeName', 'nodeType', 'textContent']\n",
    "\n",
    "def good_attr(n, a):\n",
    "    return hasattr(n, a) and getattr(n, a) and is_parsable(getattr(n, a))\n",
    "\n",
    "def parse_node(n, attrs):\n",
    "    return {a: parse(getattr(n, a)) for a in attrs if good_attr(n, a)}\n",
    "    \n",
    "def parse(x):\n",
    "    if isinstance(x, Space):\n",
    "        pass\n",
    "    if isinstance(x, Text):\n",
    "        if x.isElementContentWhitespace:\n",
    "            pass\n",
    "        else:\n",
    "            return {a: getattr(x, a) for a in text_node_attrs if good_attr(x, a)}\n",
    "    elif isinstance(x, Node) and (x.nodeName == \"math\" || x.nodeName == \"displaymath\"):\n",
    "        return parse_node(x, math_node_attrs)\n",
    "#     elif isinstance(x, Node) and x.nodeName == \"#document-fragment\":\n",
    "#         return parse(x.childNodes)\n",
    "    elif isinstance(x, Node):\n",
    "        return parse_node(x, node_attrs)\n",
    "    elif isinstance(x, dict):\n",
    "        return {key: parse(x[key]) for key in x if is_parsable(x[key]) and key != 'self'}\n",
    "    elif isinstance(x, list):\n",
    "        return [z for z in [parse(y) for y in x if is_parsable(y)] if z]\n",
    "    elif isinstance(x, str) or isinstance(x, int) or isinstance(x, float):\n",
    "        return x\n",
    "    else:\n",
    "        raise TypeError(\"I don't know how to parse %s\" % str(x))"
   ]
  },
  {
   "cell_type": "code",
   "execution_count": 31,
   "metadata": {
    "collapsed": true
   },
   "outputs": [],
   "source": [
    "tree = parse(d)"
   ]
  },
  {
   "cell_type": "code",
   "execution_count": 41,
   "metadata": {},
   "outputs": [
    {
     "data": {
      "text/plain": [
       "'theorem'"
      ]
     },
     "execution_count": 41,
     "metadata": {},
     "output_type": "execute_result"
    }
   ],
   "source": [
    "tree['childNodes'][1]['nodeName']"
   ]
  },
  {
   "cell_type": "code",
   "execution_count": 32,
   "metadata": {},
   "outputs": [
    {
     "data": {
      "text/plain": [
       "{'childNodes': [{'attributes': {'title': {'childNodes': [{'nodeName': '#text',\n",
       "       'nodeType': 3,\n",
       "       'textContent': 'Section title'}],\n",
       "     'nodeName': '#document-fragment',\n",
       "     'nodeType': 11}},\n",
       "   'childNodes': [{'childNodes': [{'attributes': {},\n",
       "       'childNodes': [{'childNodes': [{'attributes': {'label': 'lm:first'},\n",
       "           'id': 'a0000000019',\n",
       "           'nodeName': 'label',\n",
       "           'nodeType': 1},\n",
       "          {'nodeName': '#text',\n",
       "           'nodeType': 3,\n",
       "           'textContent': 'Here is some math: '},\n",
       "          {'nodeName': 'math', 'nodeType': 1, 'source': '$x^2+y^2=z^2$'}],\n",
       "         'id': 'a0000000020',\n",
       "         'nodeName': 'par',\n",
       "         'nodeType': 1}],\n",
       "       'counter': 'lemma',\n",
       "       'id': 'lm:first',\n",
       "       'nodeName': 'lemma',\n",
       "       'nodeType': 1,\n",
       "       'ref': {'childNodes': [{'nodeName': '#text',\n",
       "          'nodeType': 3,\n",
       "          'textContent': 1}],\n",
       "        'nodeName': '#document-fragment',\n",
       "        'nodeType': 11}}],\n",
       "     'id': 'a0000000021',\n",
       "     'nodeName': 'par',\n",
       "     'nodeType': 1},\n",
       "    {'childNodes': [{'attributes': {'note': {'childNodes': [{'nodeName': '#text',\n",
       "           'nodeType': 3,\n",
       "           'textContent': 'this is a '},\n",
       "          {'attributes': {},\n",
       "           'childNodes': {'childNodes': [{'nodeName': '#text',\n",
       "              'nodeType': 3,\n",
       "              'textContent': 'note'}],\n",
       "            'nodeName': '#document-fragment',\n",
       "            'nodeType': 11},\n",
       "           'id': 'a0000000022',\n",
       "           'nodeName': 'textbf',\n",
       "           'nodeType': 1}],\n",
       "         'nodeName': '#document-fragment',\n",
       "         'nodeType': 11}},\n",
       "       'childNodes': [{'childNodes': [{'attributes': {'label': 'th:second'},\n",
       "           'id': 'a0000000023',\n",
       "           'nodeName': 'label',\n",
       "           'nodeType': 1},\n",
       "          {'nodeName': '#text',\n",
       "           'nodeType': 3,\n",
       "           'textContent': ' The second theorem. '}],\n",
       "         'id': 'a0000000024',\n",
       "         'nodeName': 'par',\n",
       "         'nodeType': 1}],\n",
       "       'counter': 'theorem',\n",
       "       'id': 'th:second',\n",
       "       'nodeName': 'theorem',\n",
       "       'nodeType': 1,\n",
       "       'ref': {'childNodes': [{'nodeName': '#text',\n",
       "          'nodeType': 3,\n",
       "          'textContent': 1}],\n",
       "        'nodeName': '#document-fragment',\n",
       "        'nodeType': 11}}],\n",
       "     'id': 'a0000000025',\n",
       "     'nodeName': 'par',\n",
       "     'nodeType': 1}],\n",
       "   'counter': 'section',\n",
       "   'id': 'a0000000026',\n",
       "   'nodeName': 'section',\n",
       "   'nodeType': 1,\n",
       "   'ref': {'childNodes': [{'nodeName': '#text',\n",
       "      'nodeType': 3,\n",
       "      'textContent': 1}],\n",
       "    'nodeName': '#document-fragment',\n",
       "    'nodeType': 11},\n",
       "   'title': {'childNodes': [{'nodeName': '#text',\n",
       "      'nodeType': 3,\n",
       "      'textContent': 'Section title'}],\n",
       "    'nodeName': '#document-fragment',\n",
       "    'nodeType': 11},\n",
       "   'tocEntry': {'childNodes': [{'nodeName': '#text',\n",
       "      'nodeType': 3,\n",
       "      'textContent': 'Section title'}],\n",
       "    'nodeName': '#document-fragment',\n",
       "    'nodeType': 11}}],\n",
       " 'id': 'a0000000027',\n",
       " 'nodeName': 'document',\n",
       " 'nodeType': 1}"
      ]
     },
     "execution_count": 32,
     "metadata": {},
     "output_type": "execute_result"
    }
   ],
   "source": [
    "tree"
   ]
  },
  {
   "cell_type": "code",
   "execution_count": 33,
   "metadata": {
    "collapsed": true
   },
   "outputs": [],
   "source": [
    "outfile = open('tree.json', 'w')\n",
    "outfile.write(json.dumps(tree))\n",
    "outfile.close()"
   ]
  },
  {
   "cell_type": "code",
   "execution_count": 19,
   "metadata": {},
   "outputs": [
    {
     "data": {
      "text/plain": [
       "{'childNodes': [{'nodeName': '#text', 'nodeType': 3, 'textContent': 1}],\n",
       " 'nodeName': '#document-fragment',\n",
       " 'nodeType': 11}"
      ]
     },
     "execution_count": 19,
     "metadata": {},
     "output_type": "execute_result"
    }
   ],
   "source": [
    "tree['childNodes'][0]['ref']"
   ]
  },
  {
   "cell_type": "code",
   "execution_count": 6,
   "metadata": {
    "collapsed": true
   },
   "outputs": [],
   "source": [
    "s = r\"\"\"{\"quote\": \"'\"}\"\"\""
   ]
  },
  {
   "cell_type": "code",
   "execution_count": 7,
   "metadata": {},
   "outputs": [
    {
     "name": "stdout",
     "output_type": "stream",
     "text": [
      "{\"quote\": \"'\"}\n"
     ]
    }
   ],
   "source": [
    "print(s)"
   ]
  },
  {
   "cell_type": "code",
   "execution_count": 9,
   "metadata": {
    "collapsed": true
   },
   "outputs": [],
   "source": [
    "outfile = open('quote.json', 'w')\n",
    "outfile.write(s)\n",
    "outfile.close()"
   ]
  },
  {
   "cell_type": "code",
   "execution_count": null,
   "metadata": {
    "collapsed": true
   },
   "outputs": [],
   "source": []
  }
 ],
 "metadata": {
  "kernelspec": {
   "display_name": "Python 3",
   "language": "python",
   "name": "python3"
  },
  "language_info": {
   "codemirror_mode": {
    "name": "ipython",
    "version": 3
   },
   "file_extension": ".py",
   "mimetype": "text/x-python",
   "name": "python",
   "nbconvert_exporter": "python",
   "pygments_lexer": "ipython3",
   "version": "3.6.3"
  }
 },
 "nbformat": 4,
 "nbformat_minor": 2
}
