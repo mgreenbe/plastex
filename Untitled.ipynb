{
 "cells": [
  {
   "cell_type": "code",
   "execution_count": 15,
   "metadata": {
    "collapsed": false
   },
   "outputs": [
    {
     "name": "stderr",
     "output_type": "stream",
     "text": [
      "\n",
      " ( c:\\anaconda3\\src\\python3\\plasTeX\\Packages\\amsart.py )\n",
      " ( C:\\Users\\Matthew Greenberg\\plastex\\myamsthm.py )\n",
      " ( c:\\anaconda3\\src\\python3\\plasTeX\\Packages\\amsmath.py )"
     ]
    }
   ],
   "source": [
    "from plasTeX.TeX import TeX\n",
    "from plasTeX.DOM import Text\n",
    "import json\n",
    "\n",
    "def isWhitespace(n):\n",
    "    return isinstance(n, Text) and n.isElementContentWhitespace\n",
    "\n",
    "file = open(\"sample.tex\", \"r\", encoding=\"utf8\")\n",
    "source = file.read()\n",
    "file.close()\n",
    "doc = TeX().input(source).parse()\n",
    "doc.normalizeDocument()\n",
    "children = [x for x in doc if not isWhitespace(x)]"
   ]
  },
  {
   "cell_type": "code",
   "execution_count": 18,
   "metadata": {
    "collapsed": false
   },
   "outputs": [
    {
     "data": {
      "text/plain": [
       "{'*modifier*': None,\n",
       " 'header': 'Lemma',\n",
       " 'name': 'lemma',\n",
       " 'parent': None,\n",
       " 'shared': None}"
      ]
     },
     "execution_count": 18,
     "metadata": {},
     "output_type": "execute_result"
    }
   ],
   "source": [
    "children[2].attributes"
   ]
  },
  {
   "cell_type": "code",
   "execution_count": 19,
   "metadata": {
    "collapsed": false
   },
   "outputs": [
    {
     "data": {
      "text/plain": [
       "list"
      ]
     },
     "execution_count": 19,
     "metadata": {},
     "output_type": "execute_result"
    }
   ],
   "source": [
    "type(n.childNodes)"
   ]
  },
  {
   "cell_type": "code",
   "execution_count": 6,
   "metadata": {
    "collapsed": false
   },
   "outputs": [
    {
     "data": {
      "text/plain": [
       "plasTeX.DOM.Text"
      ]
     },
     "execution_count": 6,
     "metadata": {},
     "output_type": "execute_result"
    }
   ],
   "source": [
    "type(n)"
   ]
  },
  {
   "cell_type": "code",
   "execution_count": 9,
   "metadata": {
    "collapsed": false
   },
   "outputs": [
    {
     "data": {
      "text/plain": [
       "False"
      ]
     },
     "execution_count": 9,
     "metadata": {},
     "output_type": "execute_result"
    }
   ],
   "source": [
    "bool(n.textContent.strip())"
   ]
  },
  {
   "cell_type": "code",
   "execution_count": null,
   "metadata": {
    "collapsed": true
   },
   "outputs": [],
   "source": []
  }
 ],
 "metadata": {
  "kernelspec": {
   "display_name": "Python 3",
   "language": "python",
   "name": "python3"
  },
  "language_info": {
   "codemirror_mode": {
    "name": "ipython",
    "version": 3
   },
   "file_extension": ".py",
   "mimetype": "text/x-python",
   "name": "python",
   "nbconvert_exporter": "python",
   "pygments_lexer": "ipython3",
   "version": "3.6.3"
  }
 },
 "nbformat": 4,
 "nbformat_minor": 0
}
