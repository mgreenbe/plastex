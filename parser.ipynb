{
 "cells": [
  {
   "cell_type": "code",
   "execution_count": 1,
   "metadata": {},
   "outputs": [],
   "source": [
    "from plasTeX.TeX import TeX\n",
    "from plasTeX import Node"
   ]
  },
  {
   "cell_type": "code",
   "execution_count": 3,
   "metadata": {},
   "outputs": [
    {
     "name": "stderr",
     "output_type": "stream",
     "text": [
      "\n",
      " ( /Users/mgreenbe/anaconda3/lib/python3.6/site-\n",
      "   packages/plasTeX/Packages/amsart.py\n",
      " ) ( /Users/mgreenbe/plastex/myamsthm.py )"
     ]
    },
    {
     "name": "stdout",
     "output_type": "stream",
     "text": [
      "This is my \\textbf {theorem}\n"
     ]
    }
   ],
   "source": [
    "tex = TeX()\n",
    "tex.input(r'''\\documentclass{amsart}\n",
    "\\usepackage{myamsthm}\n",
    "\\newtheorem{theorem}{Theorem}\n",
    "\\begin{document}\n",
    "\\begin{theorem}[This is my \\textbf{theorem}]\\label{th:first}\n",
    "The first theorem.\n",
    "\\end{theorem}\n",
    "\\begin{theorem}\\label{th:second}\n",
    "The second theorem.\n",
    "\\end{theorem}\n",
    "\\end{document}''')\n",
    "document = tex.parse()"
   ]
  },
  {
   "cell_type": "code",
   "execution_count": 3,
   "metadata": {},
   "outputs": [
    {
     "data": {
      "text/plain": [
       "<thmenv element at 0x4481329248>"
      ]
     },
     "execution_count": 3,
     "metadata": {},
     "output_type": "execute_result"
    }
   ],
   "source": [
    "s = document.childNodes\n",
    "#s[6].childNodes[1].childNodes[0].childNodes[1].childNodes\n",
    "d = s[-1]\n",
    "t1 = d.childNodes[1]\n",
    "t1"
   ]
  },
  {
   "cell_type": "code",
   "execution_count": 96,
   "metadata": {},
   "outputs": [],
   "source": [
    "def node_to_dict(node):\n",
    "    d = {}\n",
    "    if hasattr(node, 'nodeName') and node.nodeName:\n",
    "        d['nodeName'] = node.nodeName\n",
    "    if hasattr(id, 'id') and node.id:\n",
    "        d['id'] = node.id\n",
    "    if hasattr(node, 'title') and node.title and isinstance(node.title, Node):\n",
    "        d['title'] = node_to_dict(node.title)\n",
    "    if hasattr(node, 'tocEntry') and node.tocEntry and isinstance(node.tocEntry, Node):\n",
    "        d['tocEntry'] = node.tocEntry\n",
    "    if hasattr(node, 'counter') and node.counter:\n",
    "        d['counter'] = node.counter\n",
    "    if hasattr(node, 'level') and node.level:\n",
    "        d['level'] = node.level\n",
    "    if hasattr(node, 'source') and node.source:\n",
    "        d['source'] = node.source\n",
    "    \n",
    "    \n",
    "    \n",
    "        \n",
    "    "
   ]
  },
  {
   "cell_type": "code",
   "execution_count": 85,
   "metadata": {},
   "outputs": [
    {
     "name": "stdout",
     "output_type": "stream",
     "text": [
      "thmenv\n",
      "th:first\n",
      "<plasTeX.TeXFragment object at 0x10d1cea08>\n",
      "<plasTeX.TeXFragment object at 0x10d1cea08>\n",
      "theorem\n",
      "201\n",
      "\\begin{thmenv}[This is my theorem]\\label{th:first} The first theorem. \\end{thmenv}\n"
     ]
    }
   ],
   "source": [
    "print(t1.nodeName)\n",
    "print(t1.id)\n",
    "print(t1.title)\n",
    "print(t1.tocEntry)\n",
    "print(t1.counter)\n",
    "print(t1.level)\n",
    "print(t1.source)"
   ]
  },
  {
   "cell_type": "code",
   "execution_count": 38,
   "metadata": {},
   "outputs": [
    {
     "data": {
      "text/plain": [
       "{'*modifier*': None,\n",
       " 'title': <plasTeX.TeXFragment at 0x10d13fbe8>,\n",
       " 'toc': None}"
      ]
     },
     "execution_count": 38,
     "metadata": {},
     "output_type": "execute_result"
    }
   ],
   "source": [
    "s.attributes"
   ]
  },
  {
   "cell_type": "code",
   "execution_count": 113,
   "metadata": {},
   "outputs": [
    {
     "data": {
      "text/plain": [
       "<plasTeX.Context.Context at 0x10d0d0400>"
      ]
     },
     "execution_count": 113,
     "metadata": {},
     "output_type": "execute_result"
    }
   ],
   "source": [
    "document.context."
   ]
  },
  {
   "cell_type": "code",
   "execution_count": 40,
   "metadata": {},
   "outputs": [
    {
     "data": {
      "text/plain": [
       "{}"
      ]
     },
     "execution_count": 40,
     "metadata": {},
     "output_type": "execute_result"
    }
   ],
   "source": [
    "s.userdata"
   ]
  },
  {
   "cell_type": "code",
   "execution_count": 41,
   "metadata": {},
   "outputs": [
    {
     "data": {
      "text/plain": [
       "'S:first'"
      ]
     },
     "execution_count": 41,
     "metadata": {},
     "output_type": "execute_result"
    }
   ],
   "source": [
    "s.id"
   ]
  },
  {
   "cell_type": "code",
   "execution_count": 42,
   "metadata": {},
   "outputs": [
    {
     "data": {
      "text/plain": [
       "{}"
      ]
     },
     "execution_count": 42,
     "metadata": {},
     "output_type": "execute_result"
    }
   ],
   "source": [
    "s.idref"
   ]
  },
  {
   "cell_type": "code",
   "execution_count": 28,
   "metadata": {},
   "outputs": [
    {
     "data": {
      "text/plain": [
       "<plasTeX.TeXFragment at 0x10d12cd08>"
      ]
     },
     "execution_count": 28,
     "metadata": {},
     "output_type": "execute_result"
    }
   ],
   "source": [
    "s.ref"
   ]
  },
  {
   "cell_type": "code",
   "execution_count": 29,
   "metadata": {},
   "outputs": [
    {
     "data": {
      "text/plain": [
       "'2'"
      ]
     },
     "execution_count": 29,
     "metadata": {},
     "output_type": "execute_result"
    }
   ],
   "source": [
    "s.ref.source"
   ]
  },
  {
   "cell_type": "code",
   "execution_count": 31,
   "metadata": {},
   "outputs": [
    {
     "data": {
      "text/plain": [
       "'Section Two'"
      ]
     },
     "execution_count": 31,
     "metadata": {},
     "output_type": "execute_result"
    }
   ],
   "source": [
    "s.title.source"
   ]
  },
  {
   "cell_type": "code",
   "execution_count": 88,
   "metadata": {},
   "outputs": [
    {
     "data": {
      "text/plain": [
       "False"
      ]
     },
     "execution_count": 88,
     "metadata": {},
     "output_type": "execute_result"
    }
   ],
   "source": [
    "isinstance(t1, type(None))"
   ]
  },
  {
   "cell_type": "code",
   "execution_count": 90,
   "metadata": {},
   "outputs": [],
   "source": [
    "from plasTeX import Node"
   ]
  },
  {
   "cell_type": "code",
   "execution_count": 91,
   "metadata": {},
   "outputs": [
    {
     "data": {
      "text/plain": [
       "plasTeX.DOM.Node"
      ]
     },
     "execution_count": 91,
     "metadata": {},
     "output_type": "execute_result"
    }
   ],
   "source": [
    "Node"
   ]
  },
  {
   "cell_type": "code",
   "execution_count": 92,
   "metadata": {},
   "outputs": [
    {
     "data": {
      "text/plain": [
       "True"
      ]
     },
     "execution_count": 92,
     "metadata": {},
     "output_type": "execute_result"
    }
   ],
   "source": [
    "isinstance(t1,Node)"
   ]
  },
  {
   "cell_type": "code",
   "execution_count": null,
   "metadata": {
    "collapsed": true
   },
   "outputs": [],
   "source": []
  }
 ],
 "metadata": {
  "kernelspec": {
   "display_name": "Python 3",
   "language": "python",
   "name": "python3"
  },
  "language_info": {
   "codemirror_mode": {
    "name": "ipython",
    "version": 3
   },
   "file_extension": ".py",
   "mimetype": "text/x-python",
   "name": "python",
   "nbconvert_exporter": "python",
   "pygments_lexer": "ipython3",
   "version": "3.6.3"
  }
 },
 "nbformat": 4,
 "nbformat_minor": 2
}
